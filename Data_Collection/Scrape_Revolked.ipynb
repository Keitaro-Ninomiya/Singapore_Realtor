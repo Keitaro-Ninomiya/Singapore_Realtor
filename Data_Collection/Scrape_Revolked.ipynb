{
 "cells": [
  {
   "cell_type": "code",
   "execution_count": 1,
   "metadata": {},
   "outputs": [],
   "source": [
    "import pandas as pd\n",
    "import re\n",
    "\n",
    "folder=r\"C:\\Users\\Keitaro Ninomiya\\Box\\Research Notes (keitaro2@illinois.edu)\\Singapore_Realtor\\Raw_Data\\RevolkedAgents\"\n",
    "\n",
    "def scrape(date):\n",
    "    path = folder + date + '.txt'\n",
    "    dta = pd.read_csv(path,\n",
    "                     header=None,\n",
    "                     delimiter=r\"\\s+\"\n",
    "                     )\n",
    "    dta.columns = [\"TAG\",\"POS\",\"TYPE\",\"CONTENT\"]\n",
    "    \n",
    "    dta.CONTENT=dta[\"CONTENT\"].str.replace(\"ATTR=TXT:\",\"\")\n",
    "    dta.CONTENT=dta[\"CONTENT\"].str.replace(\"<SP>\",\" \")\n",
    "    dta.CONTENT=dta[\"CONTENT\"].str.replace(\"Copy cell\",\"\")\n",
    "    \n",
    "    row_count = int(dta.shape[0]/3)\n",
    "    \n",
    "    dta[\"var\"]=[\"NAME\",\"ID\",\"START\"]*row_count\n",
    "    dta[\"id\"]=[j for j in range(1,row_count+1) for i in range(3)]\n",
    "    dta = dta.drop([\"TAG\",\"POS\",\"TYPE\"],axis=1)\n",
    "    \n",
    "    dta=dta.pivot(index=\"id\",columns=\"var\",values=\"CONTENT\")\n",
    "\n",
    "    return dta"
   ]
  },
  {
   "cell_type": "code",
   "execution_count": 2,
   "metadata": {},
   "outputs": [],
   "source": [
    "dta=scrape(\"\\May13\")\n",
    "dta.to_csv(folder+\"\\May13\"+\".csv\")"
   ]
  }
 ],
 "metadata": {
  "kernelspec": {
   "display_name": "Python 3",
   "language": "python",
   "name": "python3"
  },
  "language_info": {
   "codemirror_mode": {
    "name": "ipython",
    "version": 3
   },
   "file_extension": ".py",
   "mimetype": "text/x-python",
   "name": "python",
   "nbconvert_exporter": "python",
   "pygments_lexer": "ipython3",
   "version": "3.7.3"
  }
 },
 "nbformat": 4,
 "nbformat_minor": 2
}
