{
 "cells": [
  {
   "cell_type": "code",
   "execution_count": 1,
   "metadata": {},
   "outputs": [],
   "source": [
    "import requests, zipfile, io\n",
    "from io import StringIO\n",
    "import pandas as pd\n",
    "import os\n",
    "from datetime import datetime\n",
    "now=datetime.now()\n",
    "\n",
    "url = \"https://data.gov.sg/dataset/8f357dd4-96f6-4957-8a68-41b28e5e3f2f/download\"\n",
    "r = requests.get(url,stream=True)\n",
    "z=zipfile.ZipFile(io.BytesIO(r.content))\n",
    "z.extractall(r\"C:\\Users\\Keitaro Ninomiya\\Box\\Research Notes (keitaro2@illinois.edu)\\Singapore_Realtor\\Raw_Data\\Folder\")"
   ]
  },
  {
   "cell_type": "code",
   "execution_count": 2,
   "metadata": {},
   "outputs": [],
   "source": [
    "def update(date):\n",
    "    dta=pd.read_csv(r\"C:\\Users\\Keitaro Ninomiya\\Box\\Research Notes (keitaro2@illinois.edu)\\Singapore_Realtor\\Raw_Data\\CEA_Salesperson_Information\\dtaAgents.csv\")\n",
    "    dta_temp=dta.drop(columns=\"Last_Obs\")\n",
    "    dta1=pd.read_csv(r\"C:\\Users\\Keitaro Ninomiya\\Box\\Research Notes (keitaro2@illinois.edu)\\Singapore_Realtor\\Raw_Data\\Folder\\cea-salesperson-information.csv\")\n",
    "\n",
    "    new=pd.concat([dta_temp,dta1]).drop_duplicates(keep=False)\n",
    "    new[\"Last_Obs\"]=date\n",
    "    dta=pd.concat([dta,new])\n",
    "    \n",
    "    os.remove(r\"C:\\Users\\Keitaro Ninomiya\\Box\\Research Notes (keitaro2@illinois.edu)\\Singapore_Realtor\\Raw_Data\\Folder\\cea-salesperson-information.csv\")\n",
    "    return dta"
   ]
  },
  {
   "cell_type": "code",
   "execution_count": 3,
   "metadata": {},
   "outputs": [],
   "source": [
    "dta=update(now.strftime(\"%m/%d/%Y, %H:%M:%S\"))\n",
    "dta.to_csv(r\"C:\\Users\\Keitaro Ninomiya\\Box\\Research Notes (keitaro2@illinois.edu)\\Singapore_Realtor\\Raw_Data\\CEA_Salesperson_Information\\dtaAgents.csv\")"
   ]
  },
  {
   "cell_type": "code",
   "execution_count": 13,
   "metadata": {},
   "outputs": [
    {
     "data": {
      "text/plain": [
       "'05/16/2022, 16:31:25'"
      ]
     },
     "execution_count": 13,
     "metadata": {},
     "output_type": "execute_result"
    }
   ],
   "source": []
  }
 ],
 "metadata": {
  "kernelspec": {
   "display_name": "Python 3",
   "language": "python",
   "name": "python3"
  },
  "language_info": {
   "codemirror_mode": {
    "name": "ipython",
    "version": 3
   },
   "file_extension": ".py",
   "mimetype": "text/x-python",
   "name": "python",
   "nbconvert_exporter": "python",
   "pygments_lexer": "ipython3",
   "version": "3.7.3"
  }
 },
 "nbformat": 4,
 "nbformat_minor": 2
}
