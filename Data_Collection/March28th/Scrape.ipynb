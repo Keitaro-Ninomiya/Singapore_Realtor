{
 "cells": [
  {
   "cell_type": "code",
   "execution_count": 103,
   "metadata": {},
   "outputs": [],
   "source": [
    "import pandas as pd\n",
    "import re\n",
    "dta = pd.read_csv(r\"C:\\Users\\Keitaro Ninomiya\\Box\\Research Notes (keitaro2@illinois.edu)\\Singapore_Realtor\\Raw_Data\\SuspendedAgents\\MARCH28TH.txt\",\n",
    "                        header=None,\n",
    "                        delimiter=r\"\\s+\"\n",
    "                        )\n",
    "dta.columns = [\"TAG\",\"POS\",\"TYPE\",\"CONTENT\"]\n",
    "dta=dta[dta.TYPE!=\"TYPE=DIV\"]\n",
    "dta=dta[dta.TYPE!=\"TYPE=I\"]\n",
    "dta=dta[dta.TYPE!=\"TYPE=TABLE\"]\n",
    "\n",
    "dta.CONTENT=dta[\"CONTENT\"].str.replace(\"ATTR=TXT:\",\"\")\n",
    "dta.CONTENT=dta[\"CONTENT\"].str.replace(\"<SP>\",\" \")\n",
    "dta.CONTENT=dta[\"CONTENT\"].str.replace(\"Copy cell\",\"\")\n",
    "\n",
    "#Save as CSV and manually correct some errors.\n",
    "dta.to_csv(r\"C:\\Users\\Keitaro Ninomiya\\Box\\Research Notes (keitaro2@illinois.edu)\\Singapore_Realtor\\Raw_Data\\SuspendedAgents\\MARCH28THTest.csv\")"
   ]
  },
  {
   "cell_type": "code",
   "execution_count": 105,
   "metadata": {},
   "outputs": [],
   "source": [
    "dta = pd.read_csv(r\"C:\\Users\\Keitaro Ninomiya\\Box\\Research Notes (keitaro2@illinois.edu)\\Singapore_Realtor\\Raw_Data\\SuspendedAgents\\MARCH28THTest.csv\",\n",
    "                  delimiter=r\",\")\n",
    "dta[\"var\"]=[\"NAME\",\"ID\",\"START\",\"END\"]*45\n",
    "dta[\"id\"]=[j for j in range(1,46) for i in range(4)]\n",
    "dta = dta.drop([\"TAG\",\"POS\",\"TYPE\"],axis=1)"
   ]
  },
  {
   "cell_type": "code",
   "execution_count": 106,
   "metadata": {},
   "outputs": [],
   "source": [
    "dta=dta.pivot(index=\"id\",columns=\"var\",values=\"CONTENT\")"
   ]
  },
  {
   "cell_type": "code",
   "execution_count": 108,
   "metadata": {},
   "outputs": [],
   "source": [
    "dta.to_csv(r\"C:\\Users\\Keitaro Ninomiya\\Box\\Research Notes (keitaro2@illinois.edu)\\Singapore_Realtor\\Raw_Data\\SuspendedAgents\\MARCH28TH.csv\")"
   ]
  },
  {
   "cell_type": "code",
   "execution_count": 107,
   "metadata": {},
   "outputs": [
    {
     "data": {
      "text/html": [
       "<div>\n",
       "<style scoped>\n",
       "    .dataframe tbody tr th:only-of-type {\n",
       "        vertical-align: middle;\n",
       "    }\n",
       "\n",
       "    .dataframe tbody tr th {\n",
       "        vertical-align: top;\n",
       "    }\n",
       "\n",
       "    .dataframe thead th {\n",
       "        text-align: right;\n",
       "    }\n",
       "</style>\n",
       "<table border=\"1\" class=\"dataframe\">\n",
       "  <thead>\n",
       "    <tr style=\"text-align: right;\">\n",
       "      <th>var</th>\n",
       "      <th>END</th>\n",
       "      <th>ID</th>\n",
       "      <th>NAME</th>\n",
       "      <th>START</th>\n",
       "    </tr>\n",
       "    <tr>\n",
       "      <th>id</th>\n",
       "      <th></th>\n",
       "      <th></th>\n",
       "      <th></th>\n",
       "      <th></th>\n",
       "    </tr>\n",
       "  </thead>\n",
       "  <tbody>\n",
       "    <tr>\n",
       "      <th>1</th>\n",
       "      <td>29/05/2020</td>\n",
       "      <td>R014320D</td>\n",
       "      <td>CINDIOR HO MEI PING</td>\n",
       "      <td>30/03/2020</td>\n",
       "    </tr>\n",
       "    <tr>\n",
       "      <th>2</th>\n",
       "      <td>07/09/2020</td>\n",
       "      <td>R052943I</td>\n",
       "      <td>YEE CHARMAINE</td>\n",
       "      <td>08/06/2020</td>\n",
       "    </tr>\n",
       "    <tr>\n",
       "      <th>3</th>\n",
       "      <td>09/09/2020</td>\n",
       "      <td>R018601I</td>\n",
       "      <td>SOH BEE LIAN</td>\n",
       "      <td>10/06/2020</td>\n",
       "    </tr>\n",
       "    <tr>\n",
       "      <th>4</th>\n",
       "      <td>13/08/2020</td>\n",
       "      <td>R056813B</td>\n",
       "      <td>QUEK KHENG KHEE (GUO QINGJI)</td>\n",
       "      <td>14/06/2020</td>\n",
       "    </tr>\n",
       "    <tr>\n",
       "      <th>5</th>\n",
       "      <td>05/05/2021</td>\n",
       "      <td>R002036F</td>\n",
       "      <td>LIN FENG</td>\n",
       "      <td>06/07/2020</td>\n",
       "    </tr>\n",
       "  </tbody>\n",
       "</table>\n",
       "</div>"
      ],
      "text/plain": [
       "var         END        ID                          NAME       START\n",
       "id                                                                 \n",
       "1    29/05/2020  R014320D           CINDIOR HO MEI PING  30/03/2020\n",
       "2    07/09/2020  R052943I                 YEE CHARMAINE  08/06/2020\n",
       "3    09/09/2020  R018601I                  SOH BEE LIAN  10/06/2020\n",
       "4    13/08/2020  R056813B  QUEK KHENG KHEE (GUO QINGJI)  14/06/2020\n",
       "5    05/05/2021  R002036F                      LIN FENG  06/07/2020"
      ]
     },
     "execution_count": 107,
     "metadata": {},
     "output_type": "execute_result"
    }
   ],
   "source": [
    "dta.head()"
   ]
  }
 ],
 "metadata": {
  "kernelspec": {
   "display_name": "Python 3",
   "language": "python",
   "name": "python3"
  },
  "language_info": {
   "codemirror_mode": {
    "name": "ipython",
    "version": 3
   },
   "file_extension": ".py",
   "mimetype": "text/x-python",
   "name": "python",
   "nbconvert_exporter": "python",
   "pygments_lexer": "ipython3",
   "version": "3.7.3"
  }
 },
 "nbformat": 4,
 "nbformat_minor": 2
}
