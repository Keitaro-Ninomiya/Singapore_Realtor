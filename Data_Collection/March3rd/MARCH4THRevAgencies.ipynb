{
 "cells": [
  {
   "cell_type": "code",
   "execution_count": 8,
   "metadata": {},
   "outputs": [],
   "source": [
    "import pandas as pd\n",
    "import re\n",
    "dta = pd.read_csv(r\"C:\\Users\\Keitaro Ninomiya\\Box\\Research Notes (keitaro2@illinois.edu)\\Singapore_Realtor\\Raw_Data\\RevolkedAgencies\\MARCH4TH.txt\",\n",
    "                        header=None,\n",
    "                        delimiter=r\"\\s+\"\n",
    "                        )\n",
    "dta.columns = [\"TAG\",\"POS\",\"TYPE\",\"CONTENT\"]"
   ]
  },
  {
   "cell_type": "code",
   "execution_count": 9,
   "metadata": {},
   "outputs": [],
   "source": [
    "dta=dta[dta.TYPE!=\"TYPE=DIV\"]\n",
    "dta.CONTENT=dta[\"CONTENT\"].str.replace(\"ATTR=TXT:\",\"\")\n",
    "dta.CONTENT=dta[\"CONTENT\"].str.replace(\"<SP>\",\" \")\n",
    "dta.CONTENT=dta[\"CONTENT\"].str.replace(\"Copy cell\",\"\")\n"
   ]
  },
  {
   "cell_type": "code",
   "execution_count": 10,
   "metadata": {},
   "outputs": [],
   "source": [
    "dta[\"var\"]=[\"NAME\",\"ID\",\"START\"]\n",
    "dta[\"id\"]=[j for j in [1] for i in range(3)]\n",
    "dta = dta.drop([\"TAG\",\"POS\",\"TYPE\"],axis=1)\n",
    "dta=dta.pivot(index=\"id\",columns=\"var\",values=\"CONTENT\")"
   ]
  },
  {
   "cell_type": "code",
   "execution_count": 12,
   "metadata": {},
   "outputs": [],
   "source": [
    "dta.to_csv(r\"C:\\Users\\Keitaro Ninomiya\\Box\\Research Notes (keitaro2@illinois.edu)\\Singapore_Realtor\\Raw_Data\\RevolkedAgencies\\March4th.csv\")"
   ]
  }
 ],
 "metadata": {
  "kernelspec": {
   "display_name": "Python 3",
   "language": "python",
   "name": "python3"
  },
  "language_info": {
   "codemirror_mode": {
    "name": "ipython",
    "version": 3
   },
   "file_extension": ".py",
   "mimetype": "text/x-python",
   "name": "python",
   "nbconvert_exporter": "python",
   "pygments_lexer": "ipython3",
   "version": "3.7.3"
  }
 },
 "nbformat": 4,
 "nbformat_minor": 2
}
