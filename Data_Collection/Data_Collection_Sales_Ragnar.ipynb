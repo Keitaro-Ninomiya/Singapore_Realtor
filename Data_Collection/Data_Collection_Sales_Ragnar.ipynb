{
 "cells": [
  {
   "cell_type": "code",
   "execution_count": 1,
   "metadata": {},
   "outputs": [],
   "source": [
    "import requests, zipfile, io\n",
    "from io import StringIO\n",
    "import pandas as pd\n",
    "import os\n",
    "\n",
    "url = \"https://data.gov.sg/dataset/4ca1b4ae-a264-4eb2-940f-7d36db2ebbde/download\"\n",
    "r = requests.get(url,stream=True)\n",
    "z=zipfile.ZipFile(io.BytesIO(r.content))\n",
    "z.extractall(r\"/home/keitaro2/Singapore_Realtor/Raw_Data/Folder\")"
   ]
  },
  {
   "cell_type": "code",
   "execution_count": 2,
   "metadata": {},
   "outputs": [],
   "source": [
    "dta=pd.read_csv(r\"/home/keitaro2/Singapore_Realtor/Raw_Data/CEA_Salespersons_Property_Transaction_Records/dtaSales.csv\")"
   ]
  },
  {
   "cell_type": "code",
   "execution_count": 3,
   "metadata": {},
   "outputs": [],
   "source": [
    "def update():\n",
    "    dta=pd.read_csv(r\"/home/keitaro2/Singapore_Realtor/Raw_Data/CEA_Salespersons_Property_Transaction_Records/dtaSales.csv\")\n",
    "    dta1=pd.read_csv(r\"/home/keitaro2/Singapore_Realtor/Raw_Data/Folder/cea-salespersons-property-transaction-records-residential.csv\")\n",
    "\n",
    "    new=pd.concat([dta,dta1]).drop_duplicates(keep=False)\n",
    "    dta=pd.concat([dta,new])\n",
    "    \n",
    "    os.remove(r\"/home/keitaro2/Singapore_Realtor/Raw_Data/Folder/cea-salespersons-property-transaction-records-residential.csv\")\n",
    "    os.remove(r\"/home/keitaro2/Singapore_Realtor/Raw_Data/Folder/metadata-cea-salesperson-residential-transaction-record.txt\")\n",
    "    return dta"
   ]
  },
  {
   "cell_type": "code",
   "execution_count": 4,
   "metadata": {},
   "outputs": [],
   "source": [
    "dta=update()\n",
    "dta.to_csv(r\"C:\\Users\\Keitaro Ninomiya\\Box\\Research Notes (keitaro2@illinois.edu)\\Singapore_Realtor\\Raw_Data\\CEA_Salesperson_Information\\dtaSales.csv\")"
   ]
  },
  {
   "cell_type": "code",
   "execution_count": 5,
   "metadata": {},
   "outputs": [
    {
     "data": {
      "text/html": [
       "<div>\n",
       "<style scoped>\n",
       "    .dataframe tbody tr th:only-of-type {\n",
       "        vertical-align: middle;\n",
       "    }\n",
       "\n",
       "    .dataframe tbody tr th {\n",
       "        vertical-align: top;\n",
       "    }\n",
       "\n",
       "    .dataframe thead th {\n",
       "        text-align: right;\n",
       "    }\n",
       "</style>\n",
       "<table border=\"1\" class=\"dataframe\">\n",
       "  <thead>\n",
       "    <tr style=\"text-align: right;\">\n",
       "      <th></th>\n",
       "      <th>Unnamed: 0</th>\n",
       "      <th>salesperson_name</th>\n",
       "      <th>transaction_date</th>\n",
       "      <th>salesperson_reg_num</th>\n",
       "      <th>property_type</th>\n",
       "      <th>transaction_type</th>\n",
       "      <th>represented</th>\n",
       "      <th>town</th>\n",
       "      <th>district</th>\n",
       "      <th>general_location</th>\n",
       "    </tr>\n",
       "  </thead>\n",
       "  <tbody>\n",
       "    <tr>\n",
       "      <th>0</th>\n",
       "      <td>0.0</td>\n",
       "      <td>CHUA HONG ENG</td>\n",
       "      <td>Apr-31</td>\n",
       "      <td>R012800J</td>\n",
       "      <td>CONDOMINIUM_APARTMENTS</td>\n",
       "      <td>RESALE</td>\n",
       "      <td>SELLER</td>\n",
       "      <td>-</td>\n",
       "      <td>11</td>\n",
       "      <td>WATTEN ESTATE/ NOVENA/ THOMSON</td>\n",
       "    </tr>\n",
       "    <tr>\n",
       "      <th>1</th>\n",
       "      <td>1.0</td>\n",
       "      <td>KO SWI LIAN</td>\n",
       "      <td>Sep-30</td>\n",
       "      <td>R021882D</td>\n",
       "      <td>HDB</td>\n",
       "      <td>ROOM RENTAL</td>\n",
       "      <td>TENANT</td>\n",
       "      <td>ANG MO KIO</td>\n",
       "      <td>-</td>\n",
       "      <td>-</td>\n",
       "    </tr>\n",
       "    <tr>\n",
       "      <th>2</th>\n",
       "      <td>2.0</td>\n",
       "      <td>LIM BEE LAY</td>\n",
       "      <td>Jan-23</td>\n",
       "      <td>R002757C</td>\n",
       "      <td>STRATA_LANDED</td>\n",
       "      <td>ROOM RENTAL</td>\n",
       "      <td>LANDLORD</td>\n",
       "      <td>-</td>\n",
       "      <td>21</td>\n",
       "      <td>UPPER BUKIT TIMAH/ CLEMENTI PARK/ ULU PANDAN</td>\n",
       "    </tr>\n",
       "    <tr>\n",
       "      <th>3</th>\n",
       "      <td>3.0</td>\n",
       "      <td>LIM THIAM POH</td>\n",
       "      <td>Feb-22</td>\n",
       "      <td>R040124F</td>\n",
       "      <td>HDB</td>\n",
       "      <td>RESALE</td>\n",
       "      <td>SELLER</td>\n",
       "      <td>SENGKANG</td>\n",
       "      <td>-</td>\n",
       "      <td>-</td>\n",
       "    </tr>\n",
       "    <tr>\n",
       "      <th>4</th>\n",
       "      <td>4.0</td>\n",
       "      <td>SITI NURHIDAYAH BINTE MOHAMED KHAN</td>\n",
       "      <td>Feb-22</td>\n",
       "      <td>R047353J</td>\n",
       "      <td>HDB</td>\n",
       "      <td>RESALE</td>\n",
       "      <td>BUYER</td>\n",
       "      <td>SENGKANG</td>\n",
       "      <td>-</td>\n",
       "      <td>-</td>\n",
       "    </tr>\n",
       "  </tbody>\n",
       "</table>\n",
       "</div>"
      ],
      "text/plain": [
       "   Unnamed: 0                    salesperson_name transaction_date  \\\n",
       "0         0.0                       CHUA HONG ENG           Apr-31   \n",
       "1         1.0                         KO SWI LIAN           Sep-30   \n",
       "2         2.0                         LIM BEE LAY           Jan-23   \n",
       "3         3.0                       LIM THIAM POH           Feb-22   \n",
       "4         4.0  SITI NURHIDAYAH BINTE MOHAMED KHAN           Feb-22   \n",
       "\n",
       "  salesperson_reg_num           property_type transaction_type represented  \\\n",
       "0            R012800J  CONDOMINIUM_APARTMENTS           RESALE      SELLER   \n",
       "1            R021882D                     HDB      ROOM RENTAL      TENANT   \n",
       "2            R002757C           STRATA_LANDED      ROOM RENTAL    LANDLORD   \n",
       "3            R040124F                     HDB           RESALE      SELLER   \n",
       "4            R047353J                     HDB           RESALE       BUYER   \n",
       "\n",
       "         town district                              general_location  \n",
       "0           -       11                WATTEN ESTATE/ NOVENA/ THOMSON  \n",
       "1  ANG MO KIO        -                                             -  \n",
       "2           -       21  UPPER BUKIT TIMAH/ CLEMENTI PARK/ ULU PANDAN  \n",
       "3    SENGKANG        -                                             -  \n",
       "4    SENGKANG        -                                             -  "
      ]
     },
     "execution_count": 5,
     "metadata": {},
     "output_type": "execute_result"
    }
   ],
   "source": []
  },
  {
   "cell_type": "code",
   "execution_count": 1,
   "metadata": {},
   "outputs": [
    {
     "ename": "NameError",
     "evalue": "name 'getwd' is not defined",
     "output_type": "error",
     "traceback": [
      "\u001b[1;31m---------------------------------------------------------------------------\u001b[0m",
      "\u001b[1;31mNameError\u001b[0m                                 Traceback (most recent call last)",
      "\u001b[1;32m<ipython-input-1-14c78a673413>\u001b[0m in \u001b[0;36m<module>\u001b[1;34m\u001b[0m\n\u001b[1;32m----> 1\u001b[1;33m \u001b[0mgetwd\u001b[0m\u001b[1;33m(\u001b[0m\u001b[1;33m)\u001b[0m\u001b[1;33m\u001b[0m\u001b[1;33m\u001b[0m\u001b[0m\n\u001b[0m",
      "\u001b[1;31mNameError\u001b[0m: name 'getwd' is not defined"
     ]
    }
   ],
   "source": [
    "getwd()"
   ]
  }
 ],
 "metadata": {
  "kernelspec": {
   "display_name": "Python 3",
   "language": "python",
   "name": "python3"
  },
  "language_info": {
   "codemirror_mode": {
    "name": "ipython",
    "version": 3
   },
   "file_extension": ".py",
   "mimetype": "text/x-python",
   "name": "python",
   "nbconvert_exporter": "python",
   "pygments_lexer": "ipython3",
   "version": "3.7.3"
  }
 },
 "nbformat": 4,
 "nbformat_minor": 2
}
